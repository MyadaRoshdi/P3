{
 "cells": [
  {
   "cell_type": "markdown",
   "metadata": {},
   "source": [
    "## 3) [NVIDIA](https://devblogs.nvidia.com/parallelforall/deep-learning-self-driving-cars/) + cropping+ normalization + Data Augmenting 180-flipped images +  5-epochs + Generators"
   ]
  },
  {
   "cell_type": "code",
   "execution_count": 1,
   "metadata": {
    "collapsed": true
   },
   "outputs": [],
   "source": [
    "# Importing all required libraries\n",
    "import os\n",
    "import time\n",
    "import csv\n",
    "from sklearn.model_selection import train_test_split\n",
    "import cv2\n",
    "import numpy as np\n",
    "import sklearn\n",
    "from sklearn.utils import shuffle\n",
    "import matplotlib.pyplot as plt\n",
    "import tensorflow as tf"
   ]
  },
  {
   "cell_type": "code",
   "execution_count": 2,
   "metadata": {},
   "outputs": [
    {
     "name": "stdout",
     "output_type": "stream",
     "text": [
      "end\n"
     ]
    }
   ],
   "source": [
    "# Images resizing and pre-processing\n",
    "def image_preprocess(img):\n",
    "    \n",
    "    # original Image shape is:  160x320x3 while input shape for the Nvidia model is:  66x200x3\n",
    "    # crop to 40x320x3\n",
    "    #n_img = img[50:140,0,0]\n",
    "    n_img = cv2.GaussianBlur(img, (3,3), 0)\n",
    "    # scale to 66x200x3 (same as nVidia), and as suggested by the Cheatsheet\n",
    "    #n_img = cv2.resize(n_img,(200, 66), interpolation = cv2.INTER_AREA)\n",
    "    # convert to YUV color space (as Hinted in the project )\n",
    "    n_img = cv2.cvtColor(n_img, cv2.COLOR_BGR2YUV)\n",
    "    return n_img\n",
    "print('end')"
   ]
  },
  {
   "cell_type": "code",
   "execution_count": 3,
   "metadata": {
    "scrolled": true
   },
   "outputs": [
    {
     "name": "stdout",
     "output_type": "stream",
     "text": [
      "size of original training_set=  6428\n",
      "size of original validation_set=  1608\n"
     ]
    },
    {
     "name": "stderr",
     "output_type": "stream",
     "text": [
      "Using TensorFlow backend.\n"
     ]
    },
    {
     "name": "stdout",
     "output_type": "stream",
     "text": [
      "Epoch 1/3\n",
      "201/200 [==============================] - 875s 4s/step - loss: 0.2441 - val_loss: 0.0237\n",
      "Epoch 2/3\n",
      "201/200 [==============================] - 873s 4s/step - loss: 0.0222 - val_loss: 0.0219\n",
      "Epoch 3/3\n",
      "201/200 [==============================] - 873s 4s/step - loss: 0.0207 - val_loss: 0.0208\n",
      "Time fit_generator for 6428 samples: 2621.499962568283\n",
      "dict_keys(['loss', 'val_loss'])\n"
     ]
    },
    {
     "data": {
      "image/png": "[encoded data removed]",
      "text/plain": [
       "<matplotlib.figure.Figure at 0x7ffb704f34a8>"
      ]
     },
     "metadata": {},
     "output_type": "display_data"
    },
    {
     "name": "stdout",
     "output_type": "stream",
     "text": [
      "end\n"
     ]
    }
   ],
   "source": [
    "\n",
    "samples = []\n",
    "i = 0\n",
    "with open('data/driving_log.csv') as csvfile:\n",
    "    reader = csv.reader(csvfile)\n",
    "    for line in reader:\n",
    "        if(i > 0): #this part is added to insure the 1st line in the csvfile which include the headers is not included\n",
    "             samples.append(line)\n",
    "        i = i + 1\n",
    "\n",
    "        \n",
    "train_samples, validation_samples = train_test_split(samples, test_size=0.2)\n",
    "print('size of original training_set= ', len(train_samples))\n",
    "print('size of original validation_set= ', len(validation_samples))\n",
    "\n",
    "def generator(samples, batch_size=32):\n",
    "    '''\n",
    "    Using generators to save memory \n",
    "    '''    \n",
    "    num_samples = len(samples)\n",
    "    while 1: # Loop forever so the generator never terminates\n",
    "        shuffle(samples)\n",
    "        for offset in range(0, num_samples, batch_size):\n",
    "            batch_samples = samples[offset:offset+batch_size]\n",
    "\n",
    "            images = []\n",
    "            angles = []\n",
    "            for batch_sample in batch_samples:\n",
    "                source_path= batch_sample[0]\n",
    "                filename =source_path.split(':/')[-1]\n",
    "                filename =source_path.split('/')[-1]\n",
    "                #print('filename after line split: ', filename)\n",
    "                current_path= 'data/IMG/'+filename\n",
    "                #print(\"center_image current_path is: \", current_path)\n",
    "                center_image = cv2.imread(current_path)\n",
    "                #center_image = image_preprocess(center_image)\n",
    "                center_angle = float(batch_sample[3])\n",
    "                images.append(center_image)\n",
    "                angles.append(center_angle)\n",
    "                images.append(cv2.flip(center_image, 1)) #flip image 180 horizontally\n",
    "                angles.append(center_angle * -1.0) # reverse the steering angle\n",
    "                \n",
    "                \n",
    "                name_left = 'data/IMG/'+batch_sample[1].split('/')[-1]\n",
    "                left_image = cv2.imread(name_left)\n",
    "                left_angle = center_angle + 0.2\n",
    "                images.append(left_image)\n",
    "                angles.append(left_angle)\n",
    "                \n",
    "                name_right = 'data/IMG/'+batch_sample[2].split('/')[-1]\n",
    "                right_image = cv2.imread(name_right)\n",
    "                right_angle = center_angle - 0.2\n",
    "                images.append(right_image)\n",
    "                angles.append(right_angle)\n",
    "                \n",
    "\n",
    "            # Convert to numpy float arrays.\n",
    "            X_train = np.array(images)\n",
    "            y_train = np.array(angles)\n",
    "            # Shuffle the data for every batch\n",
    "            yield sklearn.utils.shuffle(X_train, y_train)\n",
    "\n",
    "\n",
    "# display sample image and it's corresponding label (steerng angle)\n",
    "#print(X_train[0].shape, ' shape of train samples')\n",
    "#print(\" a sample of label before flipping\", y_train[4823])\n",
    "#print(\" a sample of label after  flipping\", y_train[4824])\n",
    "#print(\"size of training set\", len(X_train))            \n",
    "\n",
    "\n",
    "\n",
    "ch, row, col = 3, 80, 320  # Trimmed image format\n",
    "\n",
    "import keras\n",
    "from keras.models import Sequential, Model\n",
    "from keras.layers import Flatten, Dense  \n",
    "from keras.layers.convolutional import Convolution2D\n",
    "from keras.layers.convolutional import Conv2D\n",
    "from keras.layers.pooling import MaxPooling2D\n",
    "from keras.layers import Lambda\n",
    "from keras.layers import Cropping2D\n",
    "from keras import regularizers\n",
    "#from keras.utils.visualize_util import plot\n",
    "\n",
    "\n",
    "model = Sequential()\n",
    "\n",
    "# Cropping un-useful details from the image to avoid distracting model training. Here I removed 60-pixels from top and 20 pixels from bottom.\n",
    "model.add(Cropping2D(cropping=((60,20), (0,0)),  input_shape = (160,320,3)))\n",
    "\n",
    "# Preprocessing the data using Normalization and Mean-Center and using trimmed image format to perform cropping\n",
    "model.add(Lambda(lambda x: (x / 255.0) - 0.5, input_shape=(80,320,3),  output_shape = (80,320,3)))\n",
    "\n",
    "\n",
    "                    \n",
    "# Using NVIDIA model \n",
    "model.add(Conv2D(24, (5, 5), activation=\"relu\", strides=(2, 2), kernel_regularizer=regularizers.l2(0.01)))\n",
    "#model.add(MaxPooling2D())\n",
    "model.add(Conv2D(36, (5, 5), activation=\"relu\", strides=(2, 2), kernel_regularizer=regularizers.l2(0.01)))\n",
    "#model.add(MaxPooling2D())\n",
    "model.add(Conv2D(48, (5, 5), activation=\"relu\", strides=(2, 2), kernel_regularizer=regularizers.l2(0.01)))\n",
    "model.add(Conv2D(64, (3, 3), activation=\"relu\", kernel_regularizer=regularizers.l2(0.01)))\n",
    "model.add(Conv2D(64, (3, 3), activation=\"relu\", kernel_regularizer=regularizers.l2(0.01)))\n",
    "model.add(Flatten())\n",
    "model.add(Dense(100))\n",
    "model.add(Dense(50))\n",
    "model.add(Dense(10))\n",
    "model.add(Dense(1))\n",
    "\n",
    "\n",
    "# compile and train the model using the generator function\n",
    "# Generate training and validation datasets and run the model in batches, where batch_size= 32\n",
    "train_generator = generator(train_samples)\n",
    "validation_generator = generator(validation_samples)\n",
    "\n",
    "samples_per_epoch = len(train_samples)\n",
    "batch_size = 32\n",
    "steps_per_epoch = samples_per_epoch/batch_size\n",
    "\n",
    "model.compile(loss='mse', optimizer='adam')\n",
    "\n",
    "start = time.time()\n",
    "#history = model.fit_generator(train_generator, steps_per_epoch=steps_per_epoch, validation_data=validation_generator,nb_val_samples=len(validation_samples), nb_epoch=3)\n",
    "history = model.fit_generator(train_generator, validation_steps=len(validation_samples), steps_per_epoch=steps_per_epoch, epochs=3, validation_data=validation_generator)\n",
    "print(\"Time fit_generator for %s samples: %s\" % (len(train_samples), time.time() - start))\n",
    "\n",
    "# save the model to reuse or download\n",
    "model.save('model.h5')\n",
    "\n",
    "\n",
    "\n",
    "### print the keys contained in the history object\n",
    "print(history.history.keys())\n",
    "\n",
    "### plot the training and validation loss for each epoch\n",
    "plt.plot(history.history['loss'])\n",
    "plt.plot(history.history['val_loss'])\n",
    "plt.title('model mean squared error loss')\n",
    "plt.ylabel('mean squared error loss')\n",
    "plt.xlabel('epoch')\n",
    "plt.legend(['training set', 'validation set'], loc='upper right')\n",
    "plt.show()          \n",
    "\n",
    "\n",
    "# NOTE: by default Keras train for 10 epochs\n",
    "\n",
    "# visualize model layout with pydot_ng\n",
    "#plot(model, to_file='model.png', show_shapes=True)\n",
    "print ('end')\n"
   ]
  },
  {
   "cell_type": "code",
   "execution_count": null,
   "metadata": {
    "collapsed": true
   },
   "outputs": [],
   "source": []
  }
 ],
 "metadata": {
  "anaconda-cloud": {},
  "kernelspec": {
   "display_name": "Python 3",
   "language": "python",
   "name": "python3"
  },
  "language_info": {
   "codemirror_mode": {
    "name": "ipython",
    "version": 3
   },
   "file_extension": ".py",
   "mimetype": "text/x-python",
   "name": "python",
   "nbconvert_exporter": "python",
   "pygments_lexer": "ipython3",
   "version": "3.5.2"
  },
  "widgets": {
   "state": {},
   "version": "1.1.2"
  }
 },
 "nbformat": 4,
 "nbformat_minor": 2
}
